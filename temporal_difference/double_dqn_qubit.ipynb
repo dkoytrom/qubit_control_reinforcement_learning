{
 "cells": [
  {
   "cell_type": "markdown",
   "metadata": {},
   "source": [
    "# Deep Q-Learning algorithm"
   ]
  },
  {
   "cell_type": "code",
   "execution_count": 1,
   "metadata": {},
   "outputs": [
    {
     "name": "stderr",
     "output_type": "stream",
     "text": [
      "2023-12-01 22:25:42.222175: I tensorflow/tsl/cuda/cudart_stub.cc:28] Could not find cuda drivers on your machine, GPU will not be used.\n",
      "2023-12-01 22:25:42.249003: I tensorflow/tsl/cuda/cudart_stub.cc:28] Could not find cuda drivers on your machine, GPU will not be used.\n",
      "2023-12-01 22:25:42.249677: I tensorflow/core/platform/cpu_feature_guard.cc:182] This TensorFlow binary is optimized to use available CPU instructions in performance-critical operations.\n",
      "To enable the following instructions: AVX2 FMA, in other operations, rebuild TensorFlow with the appropriate compiler flags.\n",
      "2023-12-01 22:25:42.876334: W tensorflow/compiler/tf2tensorrt/utils/py_utils.cc:38] TF-TRT Warning: Could not find TensorRT\n"
     ]
    }
   ],
   "source": [
    "from __future__ import absolute_import\n",
    "from __future__ import division\n",
    "from __future__ import print_function\n",
    "\n",
    "import abc\n",
    "import tensorflow as tf\n",
    "import numpy as np\n",
    "\n",
    "from tf_agents.environments import py_environment\n",
    "from tf_agents.environments import tf_environment\n",
    "from tf_agents.environments import tf_py_environment\n",
    "from tf_agents.environments import utils\n",
    "from tf_agents.specs import array_spec, tensor_spec\n",
    "from tf_agents.environments import wrappers\n",
    "from tf_agents.trajectories import time_step as ts\n",
    "from tf_agents.trajectories import policy_step as ps\n",
    "from tf_agents.typing import types\n",
    "from tf_agents.policies import random_py_policy\n",
    "from tf_agents.policies import epsilon_greedy_policy\n",
    "from tf_agents.policies import random_tf_policy\n",
    "from tf_agents.policies import py_policy\n",
    "from tf_agents.metrics import py_metrics\n",
    "from tf_agents.metrics import tf_metrics\n",
    "from tf_agents.drivers import py_driver\n",
    "from tf_agents.drivers import tf_driver\n",
    "from tf_agents.drivers import dynamic_episode_driver\n",
    "from tf_agents.replay_buffers import tf_uniform_replay_buffer\n",
    "from tf_agents.drivers import dynamic_step_driver\n",
    "from tf_agents.policies import py_tf_eager_policy\n",
    "\n",
    "import matplotlib.pyplot as plt\n",
    "import qutip\n",
    "from qutip import Bloch, QobjEvo, basis, sesolve, sigmay, sigmaz, sigmax, expect\n",
    "\n",
    "import random\n",
    "\n",
    "import sys\n",
    "sys.path.append('../')\n",
    "from temporal_difference.TD_algorithms import Ddqn\n",
    "\n",
    "%matplotlib inline"
   ]
  },
  {
   "cell_type": "markdown",
   "metadata": {},
   "source": [
    "* System parameters"
   ]
  },
  {
   "cell_type": "code",
   "execution_count": 2,
   "metadata": {},
   "outputs": [],
   "source": [
    "T = 10 # terminal time step\n",
    "max_steps = 30 # number of time steps"
   ]
  },
  {
   "cell_type": "markdown",
   "metadata": {},
   "source": [
    "* Create training and evaluation environments and define actions"
   ]
  },
  {
   "cell_type": "code",
   "execution_count": 3,
   "metadata": {},
   "outputs": [],
   "source": [
    "# validate environment\n",
    "from environments.qubit_env import QubitEnv\n",
    "\n",
    "# define actions\n",
    "# TODO: actions can be continuous within a range of course \n",
    "# actions will be the change in the magnetic field\n",
    "max_Ω = 1\n",
    "\n",
    "nb_actions = 9\n",
    "zero_action = np.array(0, dtype = np.float32) # action 0\n",
    "plus_action = np.array(max_Ω, dtype = np.float32) # action 1\n",
    "minus_action = np.array(-max_Ω, dtype = np.float32) # action 2\n",
    "half_plus_action = np.array(max_Ω / 2, dtype = np.float32) # action 3\n",
    "half_minus_action = np.array(-max_Ω / 2, dtype = np.float32) # action 5\n",
    "quarter_plus_action = np.array(max_Ω / 4, dtype = np.float32) # action 6\n",
    "quarter_minus_action = np.array(-max_Ω / 4, dtype = np.float32) # action 7\n",
    "plus2_action = np.array(2 * max_Ω, dtype = np.float32) # action 8\n",
    "minus2_action = np.array(-2 * max_Ω, dtype = np.float32) # action 9\n",
    "\n",
    "actions = [quarter_plus_action, quarter_minus_action, half_plus_action, half_minus_action, zero_action, plus_action, minus_action, plus2_action, minus2_action]\n",
    "\n",
    "# shuffle them randomly to avoid bias\n",
    "random.shuffle(actions)\n",
    "\n",
    "omegas = [-max_Ω, -max_Ω / 4, -max_Ω / 2, 0, max_Ω / 2, max_Ω / 4, max_Ω]\n",
    "\n",
    "environment = QubitEnv(T, max_steps, max_Ω, actions, fidelity_threshold = 0.99, verbose_fg = False, nb_actions = nb_actions)\n",
    "eval_environement = QubitEnv(T, max_steps, max_Ω, actions, fidelity_threshold = 0.99, verbose_fg = False, nb_actions = nb_actions)"
   ]
  },
  {
   "cell_type": "code",
   "execution_count": 4,
   "metadata": {},
   "outputs": [
    {
     "name": "stderr",
     "output_type": "stream",
     "text": [
      "2023-12-01 22:25:44.029818: I tensorflow/compiler/xla/stream_executor/cuda/cuda_diagnostics.cc:168] retrieving CUDA diagnostic information for host: dkoytrom-pc\n",
      "2023-12-01 22:25:44.029833: I tensorflow/compiler/xla/stream_executor/cuda/cuda_diagnostics.cc:175] hostname: dkoytrom-pc\n",
      "2023-12-01 22:25:44.029910: I tensorflow/compiler/xla/stream_executor/cuda/cuda_diagnostics.cc:199] libcuda reported version is: NOT_FOUND: was unable to find libcuda.so DSO loaded into this program\n",
      "2023-12-01 22:25:44.029936: I tensorflow/compiler/xla/stream_executor/cuda/cuda_diagnostics.cc:203] kernel reported version is: 535.129.3\n"
     ]
    },
    {
     "name": "stdout",
     "output_type": "stream",
     "text": [
      "WARNING:tensorflow:From /home/dkoytrom/Msc_Quantum_Computing_Quantum_Technologies/Master_Thesis/algorithms/.venv/lib64/python3.11/site-packages/tf_agents/replay_buffers/tf_uniform_replay_buffer.py:342: CounterV2 (from tensorflow.python.data.experimental.ops.counter) is deprecated and will be removed in a future version.\n",
      "Instructions for updating:\n",
      "Use `tf.data.Dataset.counter(...)` instead.\n"
     ]
    },
    {
     "name": "stderr",
     "output_type": "stream",
     "text": [
      "WARNING:tensorflow:From /home/dkoytrom/Msc_Quantum_Computing_Quantum_Technologies/Master_Thesis/algorithms/.venv/lib64/python3.11/site-packages/tf_agents/replay_buffers/tf_uniform_replay_buffer.py:342: CounterV2 (from tensorflow.python.data.experimental.ops.counter) is deprecated and will be removed in a future version.\n",
      "Instructions for updating:\n",
      "Use `tf.data.Dataset.counter(...)` instead.\n"
     ]
    },
    {
     "name": "stdout",
     "output_type": "stream",
     "text": [
      "WARNING:tensorflow:From /home/dkoytrom/Msc_Quantum_Computing_Quantum_Technologies/Master_Thesis/algorithms/.venv/lib64/python3.11/site-packages/tensorflow/python/autograph/impl/api.py:377: ReplayBuffer.get_next (from tf_agents.replay_buffers.replay_buffer) is deprecated and will be removed in a future version.\n",
      "Instructions for updating:\n",
      "Use `as_dataset(..., single_deterministic_pass=False) instead.\n"
     ]
    },
    {
     "name": "stderr",
     "output_type": "stream",
     "text": [
      "WARNING:tensorflow:From /home/dkoytrom/Msc_Quantum_Computing_Quantum_Technologies/Master_Thesis/algorithms/.venv/lib64/python3.11/site-packages/tensorflow/python/autograph/impl/api.py:377: ReplayBuffer.get_next (from tf_agents.replay_buffers.replay_buffer) is deprecated and will be removed in a future version.\n",
      "Instructions for updating:\n",
      "Use `as_dataset(..., single_deterministic_pass=False) instead.\n"
     ]
    },
    {
     "name": "stdout",
     "output_type": "stream",
     "text": [
      "WARNING:tensorflow:From /home/dkoytrom/Msc_Quantum_Computing_Quantum_Technologies/Master_Thesis/algorithms/.venv/lib64/python3.11/site-packages/tensorflow/python/util/dispatch.py:1176: calling foldr_v2 (from tensorflow.python.ops.functional_ops) with back_prop=False is deprecated and will be removed in a future version.\n",
      "Instructions for updating:\n",
      "back_prop=False is deprecated. Consider using tf.stop_gradient instead.\n",
      "Instead of:\n",
      "results = tf.foldr(fn, elems, back_prop=False)\n",
      "Use:\n",
      "results = tf.nest.map_structure(tf.stop_gradient, tf.foldr(fn, elems))\n"
     ]
    },
    {
     "name": "stderr",
     "output_type": "stream",
     "text": [
      "WARNING:tensorflow:From /home/dkoytrom/Msc_Quantum_Computing_Quantum_Technologies/Master_Thesis/algorithms/.venv/lib64/python3.11/site-packages/tensorflow/python/util/dispatch.py:1176: calling foldr_v2 (from tensorflow.python.ops.functional_ops) with back_prop=False is deprecated and will be removed in a future version.\n",
      "Instructions for updating:\n",
      "back_prop=False is deprecated. Consider using tf.stop_gradient instead.\n",
      "Instead of:\n",
      "results = tf.foldr(fn, elems, back_prop=False)\n",
      "Use:\n",
      "results = tf.nest.map_structure(tf.stop_gradient, tf.foldr(fn, elems))\n"
     ]
    },
    {
     "name": "stdout",
     "output_type": "stream",
     "text": [
      "step = 50: loss = 33.896690368652344\n",
      "step = 100: loss = 20.84186553955078\n",
      "step = 150: loss = 16.17481231689453\n",
      "step = 200: loss = 7.044811248779297\n",
      "step = 250: loss = 7.008918762207031\n",
      "step = 300: loss = 3.2000479698181152\n",
      "step = 350: loss = 10.028522491455078\n",
      "step = 400: loss = 9.421276092529297\n",
      "step = 450: loss = 2.823359966278076\n",
      "step = 500: loss = 6.407971382141113\n",
      "step = 550: loss = 8.348581314086914\n",
      "step = 600: loss = 5.265316963195801\n",
      "step = 650: loss = 4.08135986328125\n",
      "step = 700: loss = 3.7549819946289062\n",
      "step = 750: loss = 3.3876264095306396\n",
      "step = 800: loss = 1.8851065635681152\n",
      "step = 850: loss = 3.539247512817383\n",
      "step = 900: loss = 1.4689428806304932\n",
      "step = 950: loss = 1.5584558248519897\n",
      "step = 1000: loss = 2.28458571434021\n",
      "step = 1050: loss = 2.959789514541626\n",
      "step = 1100: loss = 1.5832314491271973\n",
      "step = 1150: loss = 1.8757240772247314\n",
      "step = 1200: loss = 1.8702704906463623\n",
      "step = 1250: loss = 1.131141185760498\n",
      "step = 1300: loss = 1.7506589889526367\n",
      "step = 1350: loss = 0.8710201978683472\n",
      "step = 1400: loss = 1.4291086196899414\n",
      "step = 1450: loss = 1.9884847402572632\n",
      "step = 1500: loss = 0.896662712097168\n",
      "step = 1550: loss = 0.8235140442848206\n",
      "step = 1600: loss = 1.8022880554199219\n",
      "step = 1650: loss = 3.005230188369751\n",
      "step = 1700: loss = 0.8009551167488098\n",
      "step = 1750: loss = 1.693434238433838\n",
      "step = 1800: loss = 2.666250705718994\n",
      "step = 1850: loss = 0.8620619773864746\n",
      "step = 1900: loss = 2.122066020965576\n",
      "step = 1950: loss = 1.9698505401611328\n",
      "step = 2000: loss = 0.7491173148155212\n",
      "step = 2050: loss = 0.8144456744194031\n",
      "step = 2100: loss = 1.87770414352417\n",
      "step = 2150: loss = 1.3376104831695557\n",
      "step = 2200: loss = 0.995573103427887\n",
      "step = 2250: loss = 2.0197949409484863\n",
      "step = 2300: loss = 0.627811074256897\n",
      "step = 2350: loss = 1.044039011001587\n",
      "step = 2400: loss = 1.603258490562439\n",
      "step = 2450: loss = 1.691776990890503\n",
      "step = 2500: loss = 1.13260018825531\n",
      "step = 2550: loss = 1.4953837394714355\n",
      "step = 2600: loss = 1.6396334171295166\n",
      "step = 2650: loss = 0.8791424036026001\n",
      "step = 2700: loss = 0.4615495800971985\n",
      "step = 2750: loss = 0.8872812986373901\n",
      "step = 2800: loss = 0.5071824789047241\n",
      "step = 2850: loss = 0.6904419660568237\n",
      "step = 2900: loss = 0.8393843770027161\n",
      "step = 2950: loss = 0.8293907642364502\n",
      "step = 3000: loss = 0.40754812955856323\n"
     ]
    }
   ],
   "source": [
    "nb_iterations = 3000\n",
    "agent, q_net, replay_buffer, avg_returns = Ddqn(\n",
    "    environment, \n",
    "    eval_environement, \n",
    "    nb_iterations = nb_iterations, \n",
    "    learning_rate = 1e-3, \n",
    "    gamma = 0.99, \n",
    "    max_steps = max_steps, \n",
    "    epsilon_greedy = 0.2\n",
    ")"
   ]
  },
  {
   "cell_type": "code",
   "execution_count": 5,
   "metadata": {},
   "outputs": [],
   "source": [
    "def extract_policy(actions, agent):\n",
    "    greedy_actions = []\n",
    "    optimal_omegas = []\n",
    "    states = []\n",
    "    fidelities = []\n",
    "    t, Ω = (0, 0)\n",
    "    optimal_policy = agent.policy\n",
    "\n",
    "    environment.reset()\n",
    "    tf_env = tf_py_environment.TFPyEnvironment(environment)\n",
    "    time_step = tf_env.reset()\n",
    "\n",
    "    states.append(environment._quantum_state)\n",
    "    \n",
    "    while t < max_steps: #and tf_env._episode_ended is False:\n",
    "        # get initial state (t, Ω)\n",
    "        omega_index = omegas.index(Ω)\n",
    "        \n",
    "        # select maximum value action\n",
    "        # use a neural network to get the estimate for the best action \n",
    "        # get the argmax of the action witg the highest value\n",
    "        action_tensor = optimal_policy.action(time_step)\n",
    "        [action_index] = action_tensor[0].numpy()\n",
    "        print(\"Actions index = \", action_index)\n",
    "\n",
    "        # add action into array of actions\n",
    "        greedy_actions.append(action_index)\n",
    "\n",
    "        # get actual action from index\n",
    "        action = actions[action_index]\n",
    "\n",
    "        # apply action into the environment\n",
    "        time_step = tf_env.step(action_index)\n",
    "\n",
    "        states.append(environment._quantum_state)\n",
    "\n",
    "        # get the new state/observation after tha action\n",
    "        [[t, Ω]] = time_step.observation.numpy()\n",
    "\n",
    "        # apply field in tha array\n",
    "        optimal_omegas.append(Ω)\n",
    "\n",
    "        fidelities.append(environment._fidelity)\n",
    "\n",
    "        if environment._episode_ended:\n",
    "            break\n",
    "        \n",
    "    return (greedy_actions, optimal_omegas, states, fidelities)"
   ]
  },
  {
   "cell_type": "code",
   "execution_count": 6,
   "metadata": {},
   "outputs": [
    {
     "name": "stdout",
     "output_type": "stream",
     "text": [
      "Actions index =  2\n",
      "Actions index =  7\n",
      "Actions index =  7\n",
      "Actions index =  7\n",
      "Actions index =  7\n",
      "Actions index =  7\n",
      "Actions index =  7\n",
      "Actions index =  3\n",
      "Actions index =  2\n"
     ]
    },
    {
     "data": {
      "image/png": "[encoded data removed]",
      "text/plain": [
       "<Figure size 640x480 with 3 Axes>"
      ]
     },
     "metadata": {},
     "output_type": "display_data"
    }
   ],
   "source": [
    "greedy_actions, optimal_omegas, states, fidelities = extract_policy(actions, agent)\n",
    "\n",
    "time_span = np.arange(len(optimal_omegas))\n",
    "fig, (ax1, ax2, ax3) = plt.subplots(3, 1)\n",
    "fig.suptitle(f'Double DQN {nb_iterations} iterations')\n",
    "ax1.step(time_span, optimal_omegas, where = 'post')\n",
    "ax1.set_ylabel(\"Ω\", rotation = 0, fontsize = 12)\n",
    "ax1.set_ylim((-1.1, 1.1))\n",
    "\n",
    "time_span2 = range(len(fidelities))\n",
    "ax2.plot(time_span2, fidelities)\n",
    "ax2.set_ylabel(\"Fidelity\", rotation = 90, fontsize = 12)\n",
    "ax2.set_xlabel(f\"time step\")\n",
    "ax2.tick_params(left = True, right = False , labelleft = True, labelbottom = False, bottom = False) \n",
    "\n",
    "time_span3 = range(len(avg_returns))\n",
    "ax3.plot(time_span3, avg_returns)\n",
    "ax3.set_ylabel(\"Rewards\", rotation = 90, fontsize = 12)\n",
    "ax3.set_xlabel(f\"evaluations\")\n",
    "plt.show()"
   ]
  }
 ],
 "metadata": {
  "kernelspec": {
   "display_name": ".venv",
   "language": "python",
   "name": "python3"
  },
  "language_info": {
   "codemirror_mode": {
    "name": "ipython",
    "version": 3
   },
   "file_extension": ".py",
   "mimetype": "text/x-python",
   "name": "python",
   "nbconvert_exporter": "python",
   "pygments_lexer": "ipython3",
   "version": "3.11.8"
  }
 },
 "nbformat": 4,
 "nbformat_minor": 2
}
